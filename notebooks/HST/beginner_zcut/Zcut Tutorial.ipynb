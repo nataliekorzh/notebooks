{
 "cells": [
  {
   "cell_type": "markdown",
   "metadata": {},
   "source": [
    "# Beginner: Zcut using Astrocut and Astroquery Tutorial\n",
    "\n",
    "This notebook shows the user how to use the MAST astroquery interface to create a cutout from various Hubble deep field surveys. For this example we will use RA and Dec coordinates to perform a query to determine which surveys contain the target, get the cutouts for this position in the sky, and download the cutouts. \n",
    "\n",
    "This tutorial shows users how to do the following: use Zcut in astroquery to determine number of surveys that contain our target, download and display cutouts both as image and fits files.\n",
    "\n",
    "### Table of Contents\n",
    "\n",
    "1. [Import Statements](#Import-Statements)\n",
    "2. [Set up coordinates](#Set-up-coordinates)\n",
    "3. [Query Which Surveys are Available](#Query-Which-Surveys-are-Available)\n",
    "4. [Getting Cutouts](#Getting-Cutouts)\n",
    "5. [Getting FITS cutouts](#Getting-FITS-cutouts)"
   ]
  },
  {
   "cell_type": "markdown",
   "metadata": {},
   "source": [
    "## Import Statements\n",
    "\n",
    "In this tutorial we will use the MAST module of Astroquery to query and download data.\n",
    "We start with a few import statements.\n",
    "\n",
    " - numpy to handle array functions\n",
    " - astroquery.mast for the catalogs and for Zcut.\n",
    " - astropy.io fits for accessing FITS files\n",
    " - PIL for colorizing images"
   ]
  },
  {
   "cell_type": "code",
   "execution_count": null,
   "metadata": {},
   "outputs": [],
   "source": [
    "# For manipulating data\n",
    "import numpy as np\n",
    "\n",
    "# For querying for data\n",
    "from astroquery.mast import Zcut, Catalogs\n",
    "\n",
    "from astropy.coordinates import SkyCoord\n",
    "from astropy.io import fits\n",
    "from astropy.wcs import WCS\n",
    "import astropy.units as u\n",
    "from PIL import Image\n",
    "\n",
    "# For matplotlib plotting\n",
    "import matplotlib\n",
    "%matplotlib inline\n",
    "\n",
    "import matplotlib.pyplot as plt"
   ]
  },
  {
   "cell_type": "markdown",
   "metadata": {},
   "source": [
    "## Set up coordinates\n",
    "\n",
    "Here we create a SkyCoord object from the RA and Dec for our chosen object."
   ]
  },
  {
   "cell_type": "code",
   "execution_count": null,
   "metadata": {},
   "outputs": [],
   "source": [
    "coord = SkyCoord(189.49206, 62.20615, unit = \"deg\")"
   ]
  },
  {
   "cell_type": "markdown",
   "metadata": {},
   "source": [
    "## Query Which Surveys are Available\n",
    "\n",
    "Here we use the Zcut method `get_surveys()` to find the surveys available for our chosen position in the sky. The function will return a list of the matching surveys. "
   ]
  },
  {
   "cell_type": "code",
   "execution_count": null,
   "metadata": {},
   "outputs": [],
   "source": [
    "survey_list = Zcut.get_surveys(coordinates=coord, radius=\"2m\")\n",
    "print(survey_list)"
   ]
  },
  {
   "cell_type": "markdown",
   "metadata": {},
   "source": [
    "## Getting Cutouts\n",
    "\n",
    "Here we use the Zcut method `download_cutouts()` which allows users to get cutout file(s) at a particular location. The actual cutout is performed by [Astrocut](https://astrocut.readthedocs.io/en/latest/), which can also be run locally. The cutouts can be returned as FITS or image (png/jpg) files, and the user may also optionally specify the particular survey to cutout using the \"survey\" parameter."
   ]
  },
  {
   "cell_type": "markdown",
   "metadata": {},
   "source": [
    "### FITS cutouts\n",
    "\n",
    "First, we perform the method with the default FITS option for output."
   ]
  },
  {
   "cell_type": "code",
   "execution_count": null,
   "metadata": {},
   "outputs": [],
   "source": [
    "cutoutlist = Zcut.download_cutouts(coordinates=coord, size=5)\n",
    "print(cutoutlist)"
   ]
  },
  {
   "cell_type": "markdown",
   "metadata": {},
   "source": [
    "Here we see the fits file that was downloaded.\n",
    "\n",
    "### Testing with PNG/JPG and Surveys\n",
    "\n",
    "Next, we look at the output when `download_cutouts()` is passed with a survey and image (jpg) files to be returned."
   ]
  },
  {
   "cell_type": "code",
   "execution_count": null,
   "metadata": {},
   "outputs": [],
   "source": [
    "cutoutlist = Zcut.download_cutouts(coordinates=coord, size=[500,300], cutout_format=\"jpg\", survey='candels_gn_30mas')\n",
    "print(cutoutlist)"
   ]
  },
  {
   "cell_type": "code",
   "execution_count": null,
   "metadata": {},
   "outputs": [],
   "source": [
    "fig, ax = plt.subplots(1,3, figsize=(15,10))\n",
    "filenames = cutoutlist[\"Local Path\"]\n",
    "for i,fle in enumerate(filenames):\n",
    "    image = Image.open(fle)\n",
    "    ax[i].imshow(image,cmap=\"gray\")\n",
    "    ax[i].axis('off')"
   ]
  },
  {
   "cell_type": "markdown",
   "metadata": {},
   "source": [
    "Here we see the three cutouts matched with this survey at this position in the sky. Next, we use the jpg cutouts downloaded and combine them into one colorized image:"
   ]
  },
  {
   "cell_type": "code",
   "execution_count": null,
   "metadata": {},
   "outputs": [],
   "source": [
    "Image.merge(\"RGB\", [Image.open(cutoutlist[0][0]), Image.open(cutoutlist[1][0]), Image.open(cutoutlist[2][0])])"
   ]
  },
  {
   "cell_type": "markdown",
   "metadata": {},
   "source": [
    "If the user wants to colorize and create images from FITS files, this can be done with built in functions in `astropy.visualization`."
   ]
  },
  {
   "cell_type": "markdown",
   "metadata": {},
   "source": [
    "## Getting FITS cutouts\n",
    "\n",
    "Here, we use the Zcut function `get_cutouts()` to get the cutouts as astropy FITS objects, and use the MAST Catalogs functionality to overlay Gaia catalog sources onto one cutout image."
   ]
  },
  {
   "cell_type": "code",
   "execution_count": null,
   "metadata": {},
   "outputs": [],
   "source": [
    "coord = SkyCoord(\"53.22706 -27.90232\", unit=\"deg\")\n",
    "cutouts = Zcut.get_cutouts(coord, size=300)"
   ]
  },
  {
   "cell_type": "markdown",
   "metadata": {},
   "source": [
    "Now, we use one of the cutouts we got from Zcut at this location and get the WCS infomation associated with our cutout. We make a WCS-aware plot and identify a single cutout image to show, and then display the image and sources together. \n",
    "\n",
    "We also use the astroquery.mast `Catalogs` class to search the Gaia coordinates to overlay nearby sources onto the image so we can identify sources in the image."
   ]
  },
  {
   "cell_type": "code",
   "execution_count": null,
   "metadata": {},
   "outputs": [],
   "source": [
    "cutout_wcs = WCS(cutouts[0][1].header)\n",
    "cutout_img = cutouts[0][1].data\n",
    "\n",
    "sources = Catalogs.query_region(catalog=\"Gaia\", coordinates=coord, radius=.2*u.arcmin)"
   ]
  },
  {
   "cell_type": "markdown",
   "metadata": {},
   "source": [
    "Next we set up our graph to show the overlayed images."
   ]
  },
  {
   "cell_type": "code",
   "execution_count": null,
   "metadata": {
    "scrolled": true
   },
   "outputs": [],
   "source": [
    "fig, ax = plt.subplots(subplot_kw={'projection':cutout_wcs})\n",
    "fig.set_size_inches(10,10)\n",
    "plt.grid(color='white', ls='solid')\n",
    "    \n",
    "# Setup WCS axes.\n",
    "xcoords = ax.coords[0]\n",
    "ycoords = ax.coords[1]\n",
    "xcoords.set_major_formatter('d.ddd')\n",
    "ycoords.set_major_formatter('d.ddd')\n",
    "xcoords.set_axislabel(\"RA (deg)\")\n",
    "ycoords.set_axislabel(\"Dec (deg)\")\n",
    "ax.imshow(cutout_img, cmap='gray',vmin=0,vmax=1)\n",
    "ax.plot(sources['ra'],sources['dec'], 'x',ms=20, mew=3, color=\"#df0040\", transform=ax.get_transform('icrs'),)\n",
    "\n",
    "ax.set_xlim(0,cutout_img.shape[1]-1)\n",
    "ax.set_ylim(cutout_img.shape[0]-1,0)\n",
    "\n",
    "plt.show()"
   ]
  },
  {
   "cell_type": "markdown",
   "metadata": {},
   "source": [
    "### About this Notebook\n",
    "\n",
    "<b>Author:</b> Natalie Korzh, STScI\n",
    "\n",
    "<b>Updated on:</b> 2021-01-08\n",
    "\n",
    "[Top of Page](#Beginner:-Zcut-using-Astrocut-and-Astroquery-Tutorial)"
   ]
  }
 ],
 "metadata": {
  "kernelspec": {
   "display_name": "Python 3",
   "language": "python",
   "name": "python3"
  },
  "language_info": {
   "codemirror_mode": {
    "name": "ipython",
    "version": 3
   },
   "file_extension": ".py",
   "mimetype": "text/x-python",
   "name": "python",
   "nbconvert_exporter": "python",
   "pygments_lexer": "ipython3",
   "version": "3.8.5"
  }
 },
 "nbformat": 4,
 "nbformat_minor": 4
}
